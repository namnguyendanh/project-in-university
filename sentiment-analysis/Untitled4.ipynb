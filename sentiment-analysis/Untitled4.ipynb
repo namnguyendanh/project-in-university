{
 "cells": [
  {
   "cell_type": "code",
   "execution_count": 1,
   "metadata": {},
   "outputs": [],
   "source": [
    "import pandas as pd"
   ]
  },
  {
   "cell_type": "code",
   "execution_count": 3,
   "metadata": {},
   "outputs": [],
   "source": [
    "df = pd.read_json(\"data/data_20_4.json\")"
   ]
  },
  {
   "cell_type": "code",
   "execution_count": 4,
   "metadata": {},
   "outputs": [
    {
     "data": {
      "text/plain": [
       "Index(['comment', 'rating'], dtype='object')"
      ]
     },
     "execution_count": 4,
     "metadata": {},
     "output_type": "execute_result"
    }
   ],
   "source": [
    "df.columns"
   ]
  },
  {
   "cell_type": "code",
   "execution_count": 5,
   "metadata": {},
   "outputs": [],
   "source": [
    "import re\n",
    "import string"
   ]
  },
  {
   "cell_type": "code",
   "execution_count": 6,
   "metadata": {},
   "outputs": [],
   "source": [
    "def str_clean(s):\n",
    "    s1 =  \" \".join(re.findall(\"[0-9a-zaáàảãạâấầẩẫậăắằẳẵặeéèẻẽẹêếềểễệiíìỉĩịoóòỏõọôốồổỗộơớờởỡợuúùủũụưứừửữựyýỳỷỹỵđ]+\", s.lower()))\n",
    "    return(s1)"
   ]
  },
  {
   "cell_type": "code",
   "execution_count": 10,
   "metadata": {},
   "outputs": [],
   "source": [
    "bad_df = df[df[\"rating\"] < 5]"
   ]
  },
  {
   "cell_type": "code",
   "execution_count": 14,
   "metadata": {},
   "outputs": [
    {
     "name": "stdout",
     "output_type": "stream",
     "text": [
      "Pop Quán - Chân Gà & Cánh Gà Nướng - Tây Sơn Các bạn cứ thích cứ khen, còn mình thì lại ko thấy mê cho được.\n",
      "\n",
      "Dù bản thân là đứa khoái ăn gà rán gà chiên, và thực tế tại đây chế biến cũng ko tệ nhưng chẳng hiểu sao mình ko thấy ngon đến độ phải quay lại làm gì. \n",
      "\n",
      "2 lần thử 2 cơ sở thì trải nghiệm ở Phố Huế khá fail từ ko gian cho tới chất lượng, đến cơ sở Tây Sơn khá khẩm hơn nhưng vẫn ... ko thấy ngon :v \n",
      "\n",
      "Thế nên thôi, ai tò mò hay thích thì cứ tới. Với mình vẫn cứ là goodbye :))\n",
      "Chân gà và sụn gà ngon Mình ăn ở địa chỉ phố Huế. Khi vào cửa hàng thấy phong cách bài trí khá là giống kiểu quán ăn gia đình nên khá là thích. Lẩu mình ăn thì thấy bình thường nhưng là món có thể ăn để no còn chân gà sụn gà chiên mắm hay rang muối đều rất ngon và vừa miệng\n",
      "!!! Nhà mình ăn ở đây nhiều lắm rồi ý. Đồ ăn theo cá nhân là mình thấy ngon vì mình ít khi ăn vặt nhất là chân gà chiên mắm rất đậm đà, sụn gà chiên muối ăn ngon nhưng hơi nạc. Ở đây còn có chè bưởi ngon nổi tiếng và mẹ mình hay bảo nếu không gọi sớm dễ hết hàng lắm. Lần trước gọi chè bưởi nhân viên đưa nhầm đồ cũ nên anh chủ tặng free 5 cốc mới luôn nên rất ấn tượng.\n",
      "Pop Quán - Chân Gà & Cánh Gà Nướng - Tây Sơn quan điểm của mình là không chê bai đồ ăn vì khẩu vị mỗi người mỗi khác nhưng lần này không chê không được. Mình đặt đùi gà rang muối qua Now. Shipper mang đến đồ ăn vẫn còn nóng hổi. Nhưng mở ra thì đùi gà rang muối đen xì, được vài hạt muối dính ở ngoài, nhạt nhẽo, ăn như đã rán đi rán lại vài lần. hình thức khác xa ảnh. mùi vị nhạt nhẽo. Lần ăn gà kinh khủng nhất mình từng ăn.\n",
      "Chân gà gây thương nhớ Đến đây lần nào cũng phải gọi chân chiên mắm với mề chiên. Đồ ngon giòn nóng hổi và lên món khá nhanh. Sụn ức gà rang muối hơi khô sẽ không gọi lại. Salad dưa chuột ăn giải ngấy thôi chứ không đặc sắc. Quán dễ tìm và đông khách. Ngõ rộng ô tô vào được. Chỗ vệ sinh nhỏ và sàn ko được sạch lắm. Nhân viên không được niềm nở, nhanh nhẹn lắm gọi nhầm order cho khách cũng không xin lỗi không đổi đồ. Được cái ông chủ đầu trọc khá vui tính. Vì món chân gà mà sẽ vẫn quay lại.\n"
     ]
    }
   ],
   "source": [
    "for x in df[\"comment\"][10:15]:\n",
    "    print(x)"
   ]
  },
  {
   "cell_type": "code",
   "execution_count": 12,
   "metadata": {},
   "outputs": [
    {
     "name": "stdout",
     "output_type": "stream",
     "text": [
      "pop quán chân gà cánh gà nướng tây sơn tết dương lịch nghĩ mãi chả ra quán nào để ăn với con bạn thân thì nó gợi ý ăn chân gà tú gà mình ăn mấy lần rồi còn pop quán thì chưa thử nên nhảy zô xem chất lượng sao quán lại cũng gần nhà mình bọn mình gọi chân gà chiên mắm sụn gà rang muối và lẩu thái chân gà thì bạn mình ăn bảo đâu cũng thế sụn gà rang muối hơi hôi mà ko giòn vừa miệng mình cho lắm lẩu thái nước cũng tạm mà thịt bò hôi đi có 2 đứa nên bạn nhân viên nhất quyết bắt ngồi bàn nhỏ xíu ko cho chuyển ra bàn dài mặc dù lúc đó vắng khách gần như chả có mấy người nhìn các bạn kéo dây chuyển đồ ăn từ tầng trên xuống cũng chán chán 100 là sẽ ko quay lại nữa đâu\n",
      "pop quán chân gà cánh gà nướng tây sơn tết dương lịch nghĩ mãi chả ra quán nào để ăn với con bạn thân thì nó gợi ý ăn chân gà tú gà mình ăn mấy lần rồi còn pop quán thì chưa thử nên nhảy zô xem chất lượng sao quán lại cũng gần nhà mình bọn mình gọi chân gà chiên mắm sụn gà rang muối và lẩu thái chân gà thì bạn mình ăn bảo đâu cũng thế sụn gà rang muối hơi hôi mà ko giòn vừa miệng mình cho lắm lẩu thái nước cũng tạm mà thịt bò hôi đi có 2 đứa nên bạn nhân viên nhất quyết bắt ngồi bàn nhỏ xíu ko cho chuyển ra bàn dài mặc dù lúc đó vắng khách gần như chả có mấy người nhìn các bạn kéo dây chuyển đồ ăn từ tầng trên xuống cũng chán chán 100 là sẽ ko quay lại nữa đâu\n",
      "pop quán chân gà cánh gà nướng tây sơn tết dương lịch nghĩ mãi chả ra quán nào để ăn với con bạn thân thì nó gợi ý ăn chân gà tú gà mình ăn mấy lần rồi còn pop quán thì chưa thử nên nhảy zô xem chất lượng sao quán lại cũng gần nhà mình bọn mình gọi chân gà chiên mắm sụn gà rang muối và lẩu thái chân gà thì bạn mình ăn bảo đâu cũng thế sụn gà rang muối hơi hôi mà ko giòn vừa miệng mình cho lắm lẩu thái nước cũng tạm mà thịt bò hôi đi có 2 đứa nên bạn nhân viên nhất quyết bắt ngồi bàn nhỏ xíu ko cho chuyển ra bàn dài mặc dù lúc đó vắng khách gần như chả có mấy người nhìn các bạn kéo dây chuyển đồ ăn từ tầng trên xuống cũng chán chán 100 là sẽ ko quay lại nữa đâu\n",
      "pop quán chân gà cánh gà nướng tây sơn tết dương lịch nghĩ mãi chả ra quán nào để ăn với con bạn thân thì nó gợi ý ăn chân gà tú gà mình ăn mấy lần rồi còn pop quán thì chưa thử nên nhảy zô xem chất lượng sao quán lại cũng gần nhà mình bọn mình gọi chân gà chiên mắm sụn gà rang muối và lẩu thái chân gà thì bạn mình ăn bảo đâu cũng thế sụn gà rang muối hơi hôi mà ko giòn vừa miệng mình cho lắm lẩu thái nước cũng tạm mà thịt bò hôi đi có 2 đứa nên bạn nhân viên nhất quyết bắt ngồi bàn nhỏ xíu ko cho chuyển ra bàn dài mặc dù lúc đó vắng khách gần như chả có mấy người nhìn các bạn kéo dây chuyển đồ ăn từ tầng trên xuống cũng chán chán 100 là sẽ ko quay lại nữa đâu\n",
      "pop quán chân gà cánh gà nướng tây sơn tết dương lịch nghĩ mãi chả ra quán nào để ăn với con bạn thân thì nó gợi ý ăn chân gà tú gà mình ăn mấy lần rồi còn pop quán thì chưa thử nên nhảy zô xem chất lượng sao quán lại cũng gần nhà mình bọn mình gọi chân gà chiên mắm sụn gà rang muối và lẩu thái chân gà thì bạn mình ăn bảo đâu cũng thế sụn gà rang muối hơi hôi mà ko giòn vừa miệng mình cho lắm lẩu thái nước cũng tạm mà thịt bò hôi đi có 2 đứa nên bạn nhân viên nhất quyết bắt ngồi bàn nhỏ xíu ko cho chuyển ra bàn dài mặc dù lúc đó vắng khách gần như chả có mấy người nhìn các bạn kéo dây chuyển đồ ăn từ tầng trên xuống cũng chán chán 100 là sẽ ko quay lại nữa đâu\n"
     ]
    }
   ],
   "source": [
    "for x in bad_df[\"comment\"][0:5]:\n",
    "    print(str_clean(c))"
   ]
  },
  {
   "cell_type": "code",
   "execution_count": null,
   "metadata": {},
   "outputs": [],
   "source": []
  }
 ],
 "metadata": {
  "kernelspec": {
   "display_name": "Python 3",
   "language": "python",
   "name": "python3"
  },
  "language_info": {
   "codemirror_mode": {
    "name": "ipython",
    "version": 3
   },
   "file_extension": ".py",
   "mimetype": "text/x-python",
   "name": "python",
   "nbconvert_exporter": "python",
   "pygments_lexer": "ipython3",
   "version": "3.6.6"
  }
 },
 "nbformat": 4,
 "nbformat_minor": 2
}
